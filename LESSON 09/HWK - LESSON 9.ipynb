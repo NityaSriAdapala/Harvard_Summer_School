{
 "cells": [
  {
   "cell_type": "code",
   "execution_count": 128,
   "metadata": {},
   "outputs": [],
   "source": [
    "import numpy as np\n",
    "import matplotlib.pyplot as plt\n",
    "%matplotlib inline"
   ]
  },
  {
   "cell_type": "code",
   "execution_count": 129,
   "metadata": {},
   "outputs": [],
   "source": [
    "from hermite_library import read_hermite_solution_from_file"
   ]
  },
  {
   "cell_type": "code",
   "execution_count": 130,
   "metadata": {},
   "outputs": [],
   "source": [
    "t_h, E_h, r_h, v_h = read_hermite_solution_from_file('myFirstPlanetarySystem11.txt')"
   ]
  },
  {
   "cell_type": "code",
   "execution_count": 131,
   "metadata": {},
   "outputs": [
    {
     "data": {
      "text/plain": [
       "(6, 3, 5000)"
      ]
     },
     "execution_count": 131,
     "metadata": {},
     "output_type": "execute_result"
    }
   ],
   "source": [
    "r_h.shape"
   ]
  },
  {
   "cell_type": "code",
   "execution_count": 132,
   "metadata": {},
   "outputs": [],
   "source": [
    "from hermite_library import AUinCM"
   ]
  },
  {
   "cell_type": "code",
   "execution_count": 133,
   "metadata": {},
   "outputs": [],
   "source": [
    "make3dplanets_libdir = './genericPlanetFiles/'"
   ]
  },
  {
   "cell_type": "code",
   "execution_count": 134,
   "metadata": {},
   "outputs": [],
   "source": [
    "SystemName = 'myFirstPlanetarySystem3'"
   ]
  },
  {
   "cell_type": "code",
   "execution_count": 135,
   "metadata": {},
   "outputs": [],
   "source": [
    "#!mkdir outPlanets"
   ]
  },
  {
   "cell_type": "code",
   "execution_count": 136,
   "metadata": {},
   "outputs": [],
   "source": [
    "output_planet_dir = './outPlanets/'"
   ]
  },
  {
   "cell_type": "code",
   "execution_count": 137,
   "metadata": {},
   "outputs": [],
   "source": [
    "from convert_kepler_data import read_kepler_data"
   ]
  },
  {
   "cell_type": "code",
   "execution_count": 138,
   "metadata": {},
   "outputs": [],
   "source": [
    "kepler_data = read_kepler_data('kepler11data.txt')"
   ]
  },
  {
   "cell_type": "code",
   "execution_count": 139,
   "metadata": {},
   "outputs": [
    {
     "data": {
      "text/plain": [
       "0.961"
      ]
     },
     "execution_count": 139,
     "metadata": {},
     "output_type": "execute_result"
    }
   ],
   "source": [
    "kepler_data['sMass'][0]"
   ]
  },
  {
   "cell_type": "code",
   "execution_count": 140,
   "metadata": {},
   "outputs": [
    {
     "data": {
      "text/plain": [
       "array([0.006, 0.009, 0.023, 0.025, 0.006, 0.079], dtype=float32)"
      ]
     },
     "execution_count": 140,
     "metadata": {},
     "output_type": "execute_result"
    }
   ],
   "source": [
    "kepler_data['pMass']"
   ]
  },
  {
   "cell_type": "code",
   "execution_count": 141,
   "metadata": {},
   "outputs": [],
   "source": [
    "texture_files = ['mercury_1024.jpg',\n",
    "                 'venus_surface_texture_1024.jpg',\n",
    "                 'earth_1200.jpg',\n",
    "                 'neptunemap_1000.jpg',\n",
    "                 'MarsMap_2500x1250.jpg', \n",
    "                 'sun_texture1.jpg']"
   ]
  },
  {
   "cell_type": "code",
   "execution_count": 154,
   "metadata": {},
   "outputs": [],
   "source": [
    "PlanetRadius = np.array([0.7e9, 0.6e9, 2e9, 0.3e9, 2.5e9, 7e9])*500 #cm"
   ]
  },
  {
   "cell_type": "code",
   "execution_count": 155,
   "metadata": {},
   "outputs": [],
   "source": [
    "from sys import path"
   ]
  },
  {
   "cell_type": "code",
   "execution_count": 156,
   "metadata": {},
   "outputs": [
    {
     "data": {
      "text/plain": [
       "['/Users/nityasriadapala/Documents/Happy/HARVARD/LESSON 9',\n",
       " '/Users/nityasriadapala/anaconda3/lib/python37.zip',\n",
       " '/Users/nityasriadapala/anaconda3/lib/python3.7',\n",
       " '/Users/nityasriadapala/anaconda3/lib/python3.7/lib-dynload',\n",
       " '',\n",
       " '/Users/nityasriadapala/anaconda3/lib/python3.7/site-packages',\n",
       " '/Users/nityasriadapala/anaconda3/lib/python3.7/site-packages/aeosa',\n",
       " '/Users/nityasriadapala/anaconda3/lib/python3.7/site-packages/IPython/extensions',\n",
       " '/Users/nityasriadapala/.ipython',\n",
       " './genericPlanetFiles/',\n",
       " './genericPlanetFiles/',\n",
       " './genericPlanetFiles/',\n",
       " './genericPlanetFiles/',\n",
       " './genericPlanetFiles/',\n",
       " './genericPlanetFiles/',\n",
       " './genericPlanetFiles/',\n",
       " './genericPlanetFiles/']"
      ]
     },
     "execution_count": 156,
     "metadata": {},
     "output_type": "execute_result"
    }
   ],
   "source": [
    "path"
   ]
  },
  {
   "cell_type": "code",
   "execution_count": 157,
   "metadata": {},
   "outputs": [],
   "source": [
    "path.append(make3dplanets_libdir)"
   ]
  },
  {
   "cell_type": "code",
   "execution_count": 158,
   "metadata": {},
   "outputs": [],
   "source": [
    "from make3dplanets import make3dplanets"
   ]
  },
  {
   "cell_type": "code",
   "execution_count": 159,
   "metadata": {},
   "outputs": [],
   "source": [
    "generic_dir = make3dplanets_libdir"
   ]
  },
  {
   "cell_type": "code",
   "execution_count": 160,
   "metadata": {},
   "outputs": [],
   "source": [
    "textures_dir = make3dplanets_libdir + 'textureMaps/'"
   ]
  },
  {
   "cell_type": "code",
   "execution_count": 161,
   "metadata": {},
   "outputs": [],
   "source": [
    "Nplot = 100"
   ]
  },
  {
   "cell_type": "code",
   "execution_count": 162,
   "metadata": {},
   "outputs": [],
   "source": [
    "PlanetLocation = np.zeros([len(PlanetRadius), 3])"
   ]
  },
  {
   "cell_type": "code",
   "execution_count": 163,
   "metadata": {},
   "outputs": [
    {
     "data": {
      "text/plain": [
       "array([[0., 0., 0.],\n",
       "       [0., 0., 0.],\n",
       "       [0., 0., 0.],\n",
       "       [0., 0., 0.],\n",
       "       [0., 0., 0.],\n",
       "       [0., 0., 0.]])"
      ]
     },
     "execution_count": 163,
     "metadata": {},
     "output_type": "execute_result"
    }
   ],
   "source": [
    "PlanetLocation"
   ]
  },
  {
   "cell_type": "code",
   "execution_count": 164,
   "metadata": {},
   "outputs": [],
   "source": [
    "for p in range(0,len(PlanetRadius)):\n",
    "    PlanetLocation[p,2] = r_h[p,0,Nplot]*AUinCM\n",
    "    PlanetLocation[p,0] = r_h[p,1,Nplot]*AUinCM\n",
    "    PlanetLocation[p,1] = r_h[p,2,Nplot]*AUinCM"
   ]
  },
  {
   "cell_type": "code",
   "execution_count": 165,
   "metadata": {},
   "outputs": [],
   "source": [
    "fname = make3dplanets(SystemName, \n",
    "                      PlanetLocation, \n",
    "                      PlanetRadius, \n",
    "                      output_planet_dir, \n",
    "                      generic_dir,\n",
    "                      textures_dir = textures_dir,\n",
    "                      texture_file = texture_files,\n",
    "                      DistanceUnits = AUinCM)"
   ]
  },
  {
   "cell_type": "code",
   "execution_count": null,
   "metadata": {},
   "outputs": [],
   "source": []
  },
  {
   "cell_type": "code",
   "execution_count": null,
   "metadata": {},
   "outputs": [],
   "source": []
  }
 ],
 "metadata": {
  "kernelspec": {
   "display_name": "Python 3",
   "language": "python",
   "name": "python3"
  },
  "language_info": {
   "codemirror_mode": {
    "name": "ipython",
    "version": 3
   },
   "file_extension": ".py",
   "mimetype": "text/x-python",
   "name": "python",
   "nbconvert_exporter": "python",
   "pygments_lexer": "ipython3",
   "version": "3.7.3"
  }
 },
 "nbformat": 4,
 "nbformat_minor": 2
}
