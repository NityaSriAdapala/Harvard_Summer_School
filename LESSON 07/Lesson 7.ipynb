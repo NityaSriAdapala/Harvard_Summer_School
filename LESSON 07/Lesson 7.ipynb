{
 "cells": [
  {
   "cell_type": "code",
   "execution_count": 108,
   "metadata": {
    "collapsed": true
   },
   "outputs": [],
   "source": [
    "import matplotlib.pyplot as plt\n",
    "import numpy as np\n",
    "import pandas as pd\n",
    "%matplotlib inline\n",
    "\n",
    "import ipywidgets"
   ]
  },
  {
   "cell_type": "code",
   "execution_count": 109,
   "metadata": {},
   "outputs": [
    {
     "data": {
      "application/vnd.jupyter.widget-view+json": {
       "model_id": "f9ca70aeca004507b881217aab5427fb",
       "version_major": 2,
       "version_minor": 0
      },
      "text/plain": [
       "A Jupyter Widget"
      ]
     },
     "metadata": {},
     "output_type": "display_data"
    }
   ],
   "source": [
    "@ipywidgets.interact(name=['Linda','Tina','Louise'])\n",
    "def print_name(name):\n",
    "    print(name)"
   ]
  },
  {
   "cell_type": "code",
   "execution_count": 110,
   "metadata": {},
   "outputs": [
    {
     "data": {
      "application/vnd.jupyter.widget-view+json": {
       "model_id": "3f41ac0a07314ecb9ba23df156ba6799",
       "version_major": 2,
       "version_minor": 0
      },
      "text/plain": [
       "A Jupyter Widget"
      ]
     },
     "metadata": {},
     "output_type": "display_data"
    }
   ],
   "source": [
    "ipywidgets.IntText()"
   ]
  },
  {
   "cell_type": "code",
   "execution_count": 111,
   "metadata": {
    "collapsed": true
   },
   "outputs": [],
   "source": [
    "itext = ipywidgets.IntText()"
   ]
  },
  {
   "cell_type": "code",
   "execution_count": 112,
   "metadata": {},
   "outputs": [
    {
     "data": {
      "application/vnd.jupyter.widget-view+json": {
       "model_id": "7ff1004ed1974d63a9d875e8e570fc5d",
       "version_major": 2,
       "version_minor": 0
      },
      "text/plain": [
       "A Jupyter Widget"
      ]
     },
     "metadata": {},
     "output_type": "display_data"
    }
   ],
   "source": [
    "itext"
   ]
  },
  {
   "cell_type": "code",
   "execution_count": 113,
   "metadata": {},
   "outputs": [
    {
     "data": {
      "text/plain": [
       "0"
      ]
     },
     "execution_count": 113,
     "metadata": {},
     "output_type": "execute_result"
    }
   ],
   "source": [
    "itext.value"
   ]
  },
  {
   "cell_type": "code",
   "execution_count": 114,
   "metadata": {
    "collapsed": true
   },
   "outputs": [],
   "source": [
    "itext.value = 10"
   ]
  },
  {
   "cell_type": "code",
   "execution_count": 115,
   "metadata": {},
   "outputs": [
    {
     "data": {
      "text/plain": [
       "10"
      ]
     },
     "execution_count": 115,
     "metadata": {},
     "output_type": "execute_result"
    }
   ],
   "source": [
    "itext.value"
   ]
  },
  {
   "cell_type": "code",
   "execution_count": 116,
   "metadata": {
    "collapsed": true
   },
   "outputs": [],
   "source": [
    "ip = ipywidgets.IntProgress()"
   ]
  },
  {
   "cell_type": "code",
   "execution_count": 117,
   "metadata": {},
   "outputs": [
    {
     "data": {
      "application/vnd.jupyter.widget-view+json": {
       "model_id": "2d378a9fd51a455996a3c4dcab72e981",
       "version_major": 2,
       "version_minor": 0
      },
      "text/plain": [
       "A Jupyter Widget"
      ]
     },
     "metadata": {},
     "output_type": "display_data"
    }
   ],
   "source": [
    "ip"
   ]
  },
  {
   "cell_type": "code",
   "execution_count": 118,
   "metadata": {
    "collapsed": true
   },
   "outputs": [],
   "source": [
    "ip.value = 85 #setting to 85%"
   ]
  },
  {
   "cell_type": "code",
   "execution_count": 119,
   "metadata": {
    "collapsed": true
   },
   "outputs": [],
   "source": [
    "irange = ipywidgets.IntRangeSlider(min=-10, max=10, step=1)"
   ]
  },
  {
   "cell_type": "code",
   "execution_count": 120,
   "metadata": {},
   "outputs": [
    {
     "data": {
      "text/plain": [
       "(-5, 5)"
      ]
     },
     "execution_count": 120,
     "metadata": {},
     "output_type": "execute_result"
    }
   ],
   "source": [
    "irange.value"
   ]
  },
  {
   "cell_type": "code",
   "execution_count": 121,
   "metadata": {},
   "outputs": [
    {
     "data": {
      "application/vnd.jupyter.widget-view+json": {
       "model_id": "f95c44d4f2cf4c2587d9346627b9b77c",
       "version_major": 2,
       "version_minor": 0
      },
      "text/plain": [
       "A Jupyter Widget"
      ]
     },
     "metadata": {},
     "output_type": "display_data"
    }
   ],
   "source": [
    "button = ipywidgets.Button(description='I am a button')\n",
    "button"
   ]
  },
  {
   "cell_type": "code",
   "execution_count": 122,
   "metadata": {
    "collapsed": true
   },
   "outputs": [],
   "source": [
    "def say_click(event):\n",
    "    print('I have clicked!')"
   ]
  },
  {
   "cell_type": "code",
   "execution_count": 123,
   "metadata": {
    "collapsed": true
   },
   "outputs": [],
   "source": [
    "button.on_click(say_click)"
   ]
  },
  {
   "cell_type": "code",
   "execution_count": 124,
   "metadata": {
    "collapsed": true
   },
   "outputs": [],
   "source": [
    "iprogress = ipywidgets.IntProgress()\n",
    "button_plus = ipywidgets.Button(description = '+10')\n",
    "button_minus = ipywidgets.Button(description = '-10')"
   ]
  },
  {
   "cell_type": "code",
   "execution_count": 125,
   "metadata": {},
   "outputs": [
    {
     "data": {
      "application/vnd.jupyter.widget-view+json": {
       "model_id": "a51e84a384434c0a905e040566912df0",
       "version_major": 2,
       "version_minor": 0
      },
      "text/plain": [
       "A Jupyter Widget"
      ]
     },
     "metadata": {},
     "output_type": "display_data"
    }
   ],
   "source": [
    "ipywidgets.HBox([button_minus, iprogress, button_plus])"
   ]
  },
  {
   "cell_type": "code",
   "execution_count": 126,
   "metadata": {
    "collapsed": true
   },
   "outputs": [],
   "source": [
    "iprogress.value = 0"
   ]
  },
  {
   "cell_type": "code",
   "execution_count": 127,
   "metadata": {
    "collapsed": true
   },
   "outputs": [],
   "source": [
    "def click_minus(event):\n",
    "    iprogress.value = iprogress.value - 10\n",
    "    \n",
    "button_minus.on_click(click_minus)"
   ]
  },
  {
   "cell_type": "code",
   "execution_count": 128,
   "metadata": {
    "collapsed": true
   },
   "outputs": [],
   "source": [
    "def click_plus(event):\n",
    "    iprogress.value = iprogress.value + 10\n",
    "    \n",
    "button_plus.on_click(click_plus)"
   ]
  },
  {
   "cell_type": "code",
   "execution_count": 129,
   "metadata": {},
   "outputs": [
    {
     "data": {
      "application/vnd.jupyter.widget-view+json": {
       "model_id": "b8d9e43dd94c42fa8671419ed948d8d2",
       "version_major": 2,
       "version_minor": 0
      },
      "text/plain": [
       "A Jupyter Widget"
      ]
     },
     "metadata": {},
     "output_type": "display_data"
    }
   ],
   "source": [
    "islider = ipywidgets.IntSlider(min=0, max=0, step=1, orientation='vertical')\n",
    "islider.style.handle_color = '#750075'\n",
    "islider"
   ]
  },
  {
   "cell_type": "code",
   "execution_count": 130,
   "metadata": {},
   "outputs": [
    {
     "data": {
      "application/vnd.jupyter.widget-view+json": {
       "model_id": "863ace4c93974ae1aecd5c929a08a0dd",
       "version_major": 2,
       "version_minor": 0
      },
      "text/plain": [
       "A Jupyter Widget"
      ]
     },
     "metadata": {},
     "output_type": "display_data"
    }
   ],
   "source": [
    "cp = ipywidgets.ColorPicker()\n",
    "cp"
   ]
  },
  {
   "cell_type": "code",
   "execution_count": 131,
   "metadata": {},
   "outputs": [
    {
     "ename": "AttributeError",
     "evalue": "module 'ipywidgets' has no attribute 'link'",
     "output_type": "error",
     "traceback": [
      "\u001b[0;31m---------------------------------------------------------------------------\u001b[0m",
      "\u001b[0;31mAttributeError\u001b[0m                            Traceback (most recent call last)",
      "\u001b[0;32m<ipython-input-131-8dfa05ab2ddc>\u001b[0m in \u001b[0;36m<module>\u001b[0;34m()\u001b[0m\n\u001b[0;32m----> 1\u001b[0;31m \u001b[0mipywidgets\u001b[0m\u001b[0;34m.\u001b[0m\u001b[0mlink\u001b[0m\u001b[0;34m(\u001b[0m \u001b[0;34m(\u001b[0m\u001b[0mcp\u001b[0m\u001b[0;34m,\u001b[0m \u001b[0;34m'value'\u001b[0m\u001b[0;34m)\u001b[0m\u001b[0;34m,\u001b[0m \u001b[0;34m(\u001b[0m\u001b[0mislider\u001b[0m\u001b[0;34m.\u001b[0m\u001b[0mstyle\u001b[0m\u001b[0;34m,\u001b[0m \u001b[0;34m'handle_color'\u001b[0m\u001b[0;34m)\u001b[0m \u001b[0;34m)\u001b[0m\u001b[0;34m\u001b[0m\u001b[0m\n\u001b[0m",
      "\u001b[0;31mAttributeError\u001b[0m: module 'ipywidgets' has no attribute 'link'"
     ]
    }
   ],
   "source": [
    "ipywidgets.link( (cp, 'value'), (islider.style, 'handle_color') )"
   ]
  },
  {
   "cell_type": "code",
   "execution_count": 132,
   "metadata": {},
   "outputs": [
    {
     "data": {
      "application/vnd.jupyter.widget-view+json": {
       "model_id": "d1dac0038d504cfcb18660bf20436058",
       "version_major": 2,
       "version_minor": 0
      },
      "text/plain": [
       "A Jupyter Widget"
      ]
     },
     "metadata": {},
     "output_type": "display_data"
    }
   ],
   "source": [
    "ipywidgets.VBox([cp, islider])"
   ]
  },
  {
   "cell_type": "markdown",
   "metadata": {},
   "source": [
    "# Practical Example"
   ]
  },
  {
   "cell_type": "code",
   "execution_count": 133,
   "metadata": {
    "collapsed": true
   },
   "outputs": [],
   "source": [
    "theta = np.arange(0, 2*np.pi, 0.001)"
   ]
  },
  {
   "cell_type": "code",
   "execution_count": 134,
   "metadata": {},
   "outputs": [
    {
     "data": {
      "text/plain": [
       "array([  0.00000000e+00,   1.00000000e-03,   2.00000000e-03, ...,\n",
       "         6.28100000e+00,   6.28200000e+00,   6.28300000e+00])"
      ]
     },
     "execution_count": 134,
     "metadata": {},
     "output_type": "execute_result"
    }
   ],
   "source": [
    "theta"
   ]
  },
  {
   "cell_type": "code",
   "execution_count": 135,
   "metadata": {},
   "outputs": [
    {
     "data": {
      "text/plain": [
       "(6284,)"
      ]
     },
     "execution_count": 135,
     "metadata": {},
     "output_type": "execute_result"
    }
   ],
   "source": [
    "theta.shape"
   ]
  },
  {
   "cell_type": "code",
   "execution_count": 136,
   "metadata": {
    "collapsed": true
   },
   "outputs": [],
   "source": [
    "a = 5"
   ]
  },
  {
   "cell_type": "code",
   "execution_count": 137,
   "metadata": {},
   "outputs": [
    {
     "data": {
      "application/vnd.jupyter.widget-view+json": {
       "model_id": "f43c451c3f00445d8f563d5cef6a74fd",
       "version_major": 2,
       "version_minor": 0
      },
      "text/plain": [
       "A Jupyter Widget"
      ]
     },
     "metadata": {},
     "output_type": "display_data"
    },
    {
     "data": {
      "text/plain": [
       "<function __main__.plot_ellipse>"
      ]
     },
     "execution_count": 137,
     "metadata": {},
     "output_type": "execute_result"
    }
   ],
   "source": [
    "def plot_ellipse(ecc):\n",
    "    r = a*(1-ecc**2)/(1+ecc*np.cos(theta))\n",
    "    x = r*np.cos(theta)\n",
    "    y = r*np.sin(theta)\n",
    "    plt.plot(x,y)\n",
    "    plt.xlim(-10,10)\n",
    "    plt.ylim(-10,10)\n",
    "    plt.show()\n",
    "\n",
    "ipywidgets.interact(plot_ellipse, ecc=(0.0,0.9,0.1))"
   ]
  },
  {
   "cell_type": "markdown",
   "metadata": {},
   "source": [
    "# Exercise"
   ]
  },
  {
   "cell_type": "code",
   "execution_count": 138,
   "metadata": {},
   "outputs": [
    {
     "data": {
      "application/vnd.jupyter.widget-view+json": {
       "model_id": "d14110dd253c45c7baee25566cc3b2f6",
       "version_major": 2,
       "version_minor": 0
      },
      "text/plain": [
       "A Jupyter Widget"
      ]
     },
     "metadata": {},
     "output_type": "display_data"
    },
    {
     "data": {
      "text/plain": [
       "<function __main__.plot_ellipse>"
      ]
     },
     "execution_count": 138,
     "metadata": {},
     "output_type": "execute_result"
    }
   ],
   "source": [
    "ipywidgets.interact(plot_ellipse, ecc=(0.0,0.9,0.0000005))"
   ]
  },
  {
   "cell_type": "code",
   "execution_count": 142,
   "metadata": {},
   "outputs": [
    {
     "data": {
      "application/vnd.jupyter.widget-view+json": {
       "model_id": "1ce6a9798c9849639c6e28fbe3b4dd17",
       "version_major": 2,
       "version_minor": 0
      },
      "text/plain": [
       "A Jupyter Widget"
      ]
     },
     "metadata": {},
     "output_type": "display_data"
    },
    {
     "data": {
      "text/plain": [
       "<function __main__.plot_ellipse1>"
      ]
     },
     "execution_count": 142,
     "metadata": {},
     "output_type": "execute_result"
    }
   ],
   "source": [
    "def plot_ellipse1(ecc, a, c):\n",
    "    r = a*(1-ecc**2)/(1+ecc*np.cos(theta))\n",
    "    x = r*np.cos(theta)\n",
    "    y = r*np.sin(theta)\n",
    "    plt.plot(x,y, color = c)\n",
    "    plt.xlim(-10,10)\n",
    "    plt.ylim(-10,10)\n",
    "    plt.show()\n",
    "\n",
    "ipywidgets.interact(plot_ellipse1, ecc=(0.0,0.9,0.1), a=7, c = ipywidgets.ColorPicker())"
   ]
  },
  {
   "cell_type": "code",
   "execution_count": 145,
   "metadata": {},
   "outputs": [
    {
     "data": {
      "application/vnd.jupyter.widget-view+json": {
       "model_id": "40eb3eeec0f24ec89fd13ef3e02297d8",
       "version_major": 2,
       "version_minor": 0
      },
      "text/plain": [
       "A Jupyter Widget"
      ]
     },
     "metadata": {},
     "output_type": "display_data"
    },
    {
     "data": {
      "application/vnd.jupyter.widget-view+json": {
       "model_id": "aeda9384e8464184b3c95a52d8783949",
       "version_major": 2,
       "version_minor": 0
      },
      "text/plain": [
       "A Jupyter Widget"
      ]
     },
     "metadata": {},
     "output_type": "display_data"
    },
    {
     "data": {
      "application/vnd.jupyter.widget-view+json": {
       "model_id": "693093dc356542df9279e085d1f1cf98",
       "version_major": 2,
       "version_minor": 0
      },
      "text/plain": [
       "A Jupyter Widget"
      ]
     },
     "metadata": {},
     "output_type": "display_data"
    },
    {
     "data": {
      "text/plain": [
       "<function __main__.plot_ellipse1>"
      ]
     },
     "execution_count": 145,
     "metadata": {},
     "output_type": "execute_result"
    }
   ],
   "source": [
    "ipywidgets.interact(plot_ellipse1, ecc=(0.0,0.9,0.1), a=5, c=ipywidgets.ColorPicker())\n",
    "ipywidgets.interact(plot_ellipse1, ecc=(0.0,0.9,0.005), a=10, c=ipywidgets.ColorPicker())\n",
    "ipywidgets.interact(plot_ellipse1, ecc=(0.0,0.9,0.04), a=10, c=ipywidgets.ColorPicker())"
   ]
  },
  {
   "cell_type": "markdown",
   "metadata": {},
   "source": [
    "# bqplot"
   ]
  },
  {
   "cell_type": "code",
   "execution_count": 4,
   "metadata": {},
   "outputs": [
    {
     "name": "stdout",
     "output_type": "stream",
     "text": [
      "Enabling notebook extension bqplot/extension...\n",
      "      - Validating: \u001b[32mOK\u001b[0m\n"
     ]
    }
   ],
   "source": [
    "#!conda install -c conda-forge bqplot --yes\n",
    "#!pip install bqplot\n",
    "!jupyter nbextension enable --py bqplot"
   ]
  },
  {
   "cell_type": "code",
   "execution_count": 21,
   "metadata": {
    "collapsed": true
   },
   "outputs": [],
   "source": [
    "import bqplot\n",
    "import numpy as np\n",
    "import matplotlib.pyplot as plt\n",
    "import pandas as pd\n",
    "%matplotlib inline\n",
    "\n",
    "import ipywidgets"
   ]
  },
  {
   "cell_type": "code",
   "execution_count": 22,
   "metadata": {},
   "outputs": [
    {
     "data": {
      "text/plain": [
       "(10, 10)"
      ]
     },
     "execution_count": 22,
     "metadata": {},
     "output_type": "execute_result"
    }
   ],
   "source": [
    "data = np.random.random((10,10))\n",
    "data.shape"
   ]
  },
  {
   "cell_type": "code",
   "execution_count": 61,
   "metadata": {},
   "outputs": [
    {
     "data": {
      "application/vnd.jupyter.widget-view+json": {
       "model_id": "ff33adead0d349cfba882a8e96050f55",
       "version_major": 2,
       "version_minor": 0
      },
      "text/plain": [
       "A Jupyter Widget"
      ]
     },
     "metadata": {},
     "output_type": "display_data"
    }
   ],
   "source": [
    "theta = np.arange(0, 2*np.pi, 0.001)\n",
    "\n",
    "x_l_sc = bqplot.LinearScale()\n",
    "y_l_sc = bqplot.LinearScale()\n",
    "\n",
    "x_l_ax = bqplot.Axis(scale=x_l_sc, label='x in AU')\n",
    "y_l_ax = bqplot.Axis(scale=y_l_sc, label='y in AU', orientation='vertical')\n",
    "\n",
    "lines = bqplot.Lines(x=[], y=[], \n",
    "                     scales = {'x':x_l_sc, 'y':y_l_sc})\n",
    "\n",
    "fig_lines = bqplot.Figure(marks=[lines], axes = [y_l_ax, x_l_ax])\n",
    "\n",
    "mySelectedLabel = ipywidgets.Label()\n",
    "\n",
    "from IPython.display import display\n",
    "\n",
    "col_sc = bqplot.ColorScale(scheme = 'Greens')\n",
    "col_ax = bqplot.ColorAxis(scale = col_sc,\n",
    "                          orientation = 'vertical',\n",
    "                          side = 'right')\n",
    "\n",
    "x_sc = bqplot.LinearScale()\n",
    "y_sc = bqplot.LinearScale()\n",
    "\n",
    "x_ax = bqplot.Axis(scale=x_sc, label = 'semi-major axis')\n",
    "y_ax = bqplot.Axis(scale=y_sc, label = 'eccentricity', orientation = 'vertical')\n",
    "\n",
    "heat_map = bqplot.GridHeatMap(color = myHist,\n",
    "                              row = x_centers,\n",
    "                              column = y_centers,\n",
    "                              scales = {'color':col_sc,\n",
    "                                        'row':y_sc,\n",
    "                                        'column':x_sc},\n",
    "                              interactions = {'click':'select'},\n",
    "                              anchor_style = {'fill':'blue'})\n",
    "\n",
    "def get_data_values(change):\n",
    "    i,j = heat_map.selected[0]\n",
    "    v = myHist[i,j]\n",
    "    mySelectedLabel.value = str(v)\n",
    "    a = y_centers[j]\n",
    "    ecc = x_centers[i]\n",
    "    r = a*(1-ecc**2)/(1+ecc*np.cos(theta))\n",
    "    x=r*np.cos(theta)\n",
    "    y=r*np.sin(theta)\n",
    "    lines.x = x\n",
    "    lines.y = y\n",
    "    \n",
    "heat_map.observe(get_data_values, 'selected')\n",
    "\n",
    "fig = bqplot.Figure(marks=[heat_map], axes=[col_ax, y_ax, x_ax])\n",
    "\n",
    "ipywidgets.VBox([mySelectedLabel, ipywidgets.HBox([fig, fig_lines])])"
   ]
  },
  {
   "cell_type": "code",
   "execution_count": 27,
   "metadata": {},
   "outputs": [
    {
     "data": {
      "text/plain": [
       "[[3, 8]]"
      ]
     },
     "execution_count": 27,
     "metadata": {},
     "output_type": "execute_result"
    }
   ],
   "source": [
    "heat_map.selected"
   ]
  },
  {
   "cell_type": "code",
   "execution_count": 29,
   "metadata": {},
   "outputs": [],
   "source": [
    "planets = pd.read_csv('planets_2019.07.12_17.16.25.csv', sep=',', comment='#')"
   ]
  },
  {
   "cell_type": "code",
   "execution_count": 30,
   "metadata": {},
   "outputs": [
    {
     "data": {
      "text/plain": [
       "Index(['pl_hostname', 'pl_letter', 'pl_name', 'pl_discmethod',\n",
       "       'pl_controvflag', 'pl_pnum', 'pl_orbper', 'pl_orbpererr1',\n",
       "       'pl_orbpererr2', 'pl_orbperlim', 'pl_orbsmax', 'pl_orbsmaxerr1',\n",
       "       'pl_orbsmaxerr2', 'pl_orbsmaxlim', 'pl_orbeccen', 'pl_orbeccenerr1',\n",
       "       'pl_orbeccenerr2', 'pl_orbeccenlim', 'pl_orbincl', 'pl_orbinclerr1',\n",
       "       'pl_orbinclerr2', 'pl_orbincllim', 'pl_bmassj', 'pl_bmassjerr1',\n",
       "       'pl_bmassjerr2', 'pl_bmassjlim', 'pl_bmassprov', 'pl_radj',\n",
       "       'pl_radjerr1', 'pl_radjerr2', 'pl_radjlim', 'pl_dens', 'pl_denserr1',\n",
       "       'pl_denserr2', 'pl_denslim', 'ra_str', 'ra', 'dec_str', 'dec',\n",
       "       'st_dist', 'st_disterr1', 'st_disterr2', 'st_distlim', 'gaia_dist',\n",
       "       'gaia_disterr1', 'gaia_disterr2', 'gaia_distlim', 'st_optmag',\n",
       "       'st_optmagerr', 'st_optmaglim', 'st_optband', 'gaia_gmag',\n",
       "       'gaia_gmagerr', 'gaia_gmaglim', 'st_teff', 'st_tefferr1', 'st_tefferr2',\n",
       "       'st_tefflim', 'st_mass', 'st_masserr1', 'st_masserr2', 'st_masslim',\n",
       "       'st_rad', 'st_raderr1', 'st_raderr2', 'st_radlim', 'pl_massj',\n",
       "       'pl_massjerr1', 'pl_massjerr2', 'pl_massjlim', 'pl_rade', 'pl_radeerr1',\n",
       "       'pl_radeerr2', 'pl_radelim', 'pl_disc', 'pl_mnum', 'st_sp', 'st_spstr',\n",
       "       'st_sperr', 'st_splim', 'st_lum', 'st_lumerr1', 'st_lumerr2',\n",
       "       'st_lumlim', 'st_age', 'st_ageerr1', 'st_ageerr2', 'st_agelim'],\n",
       "      dtype='object')"
      ]
     },
     "execution_count": 30,
     "metadata": {},
     "output_type": "execute_result"
    }
   ],
   "source": [
    "planets.keys()"
   ]
  },
  {
   "cell_type": "code",
   "execution_count": 31,
   "metadata": {},
   "outputs": [
    {
     "data": {
      "text/html": [
       "<div>\n",
       "<style>\n",
       "    .dataframe thead tr:only-child th {\n",
       "        text-align: right;\n",
       "    }\n",
       "\n",
       "    .dataframe thead th {\n",
       "        text-align: left;\n",
       "    }\n",
       "\n",
       "    .dataframe tbody tr th {\n",
       "        vertical-align: top;\n",
       "    }\n",
       "</style>\n",
       "<table border=\"1\" class=\"dataframe\">\n",
       "  <thead>\n",
       "    <tr style=\"text-align: right;\">\n",
       "      <th></th>\n",
       "      <th>pl_orbeccen</th>\n",
       "      <th>pl_orbsmax</th>\n",
       "    </tr>\n",
       "  </thead>\n",
       "  <tbody>\n",
       "    <tr>\n",
       "      <th>0</th>\n",
       "      <td>0.2310</td>\n",
       "      <td>1.290000</td>\n",
       "    </tr>\n",
       "    <tr>\n",
       "      <th>1</th>\n",
       "      <td>0.0800</td>\n",
       "      <td>1.530000</td>\n",
       "    </tr>\n",
       "    <tr>\n",
       "      <th>2</th>\n",
       "      <td>0.0000</td>\n",
       "      <td>0.830000</td>\n",
       "    </tr>\n",
       "    <tr>\n",
       "      <th>3</th>\n",
       "      <td>0.3700</td>\n",
       "      <td>2.930000</td>\n",
       "    </tr>\n",
       "    <tr>\n",
       "      <th>4</th>\n",
       "      <td>0.6800</td>\n",
       "      <td>1.660000</td>\n",
       "    </tr>\n",
       "    <tr>\n",
       "      <th>5</th>\n",
       "      <td>0.0800</td>\n",
       "      <td>2.600000</td>\n",
       "    </tr>\n",
       "    <tr>\n",
       "      <th>6</th>\n",
       "      <td>NaN</td>\n",
       "      <td>330.000000</td>\n",
       "    </tr>\n",
       "    <tr>\n",
       "      <th>7</th>\n",
       "      <td>0.0420</td>\n",
       "      <td>0.190000</td>\n",
       "    </tr>\n",
       "    <tr>\n",
       "      <th>8</th>\n",
       "      <td>0.0900</td>\n",
       "      <td>1.333000</td>\n",
       "    </tr>\n",
       "    <tr>\n",
       "      <th>9</th>\n",
       "      <td>0.2900</td>\n",
       "      <td>2.080000</td>\n",
       "    </tr>\n",
       "    <tr>\n",
       "      <th>10</th>\n",
       "      <td>NaN</td>\n",
       "      <td>52.000000</td>\n",
       "    </tr>\n",
       "    <tr>\n",
       "      <th>11</th>\n",
       "      <td>NaN</td>\n",
       "      <td>156.000000</td>\n",
       "    </tr>\n",
       "    <tr>\n",
       "      <th>12</th>\n",
       "      <td>NaN</td>\n",
       "      <td>15.000000</td>\n",
       "    </tr>\n",
       "    <tr>\n",
       "      <th>13</th>\n",
       "      <td>NaN</td>\n",
       "      <td>46.000000</td>\n",
       "    </tr>\n",
       "    <tr>\n",
       "      <th>14</th>\n",
       "      <td>NaN</td>\n",
       "      <td>0.920000</td>\n",
       "    </tr>\n",
       "    <tr>\n",
       "      <th>15</th>\n",
       "      <td>0.2600</td>\n",
       "      <td>NaN</td>\n",
       "    </tr>\n",
       "    <tr>\n",
       "      <th>16</th>\n",
       "      <td>NaN</td>\n",
       "      <td>230.000000</td>\n",
       "    </tr>\n",
       "    <tr>\n",
       "      <th>17</th>\n",
       "      <td>0.2900</td>\n",
       "      <td>0.990000</td>\n",
       "    </tr>\n",
       "    <tr>\n",
       "      <th>18</th>\n",
       "      <td>0.4320</td>\n",
       "      <td>0.870000</td>\n",
       "    </tr>\n",
       "    <tr>\n",
       "      <th>19</th>\n",
       "      <td>0.3800</td>\n",
       "      <td>1.190000</td>\n",
       "    </tr>\n",
       "    <tr>\n",
       "      <th>20</th>\n",
       "      <td>0.0320</td>\n",
       "      <td>2.100000</td>\n",
       "    </tr>\n",
       "    <tr>\n",
       "      <th>21</th>\n",
       "      <td>0.0980</td>\n",
       "      <td>3.600000</td>\n",
       "    </tr>\n",
       "    <tr>\n",
       "      <th>22</th>\n",
       "      <td>0.1600</td>\n",
       "      <td>11.600000</td>\n",
       "    </tr>\n",
       "    <tr>\n",
       "      <th>23</th>\n",
       "      <td>0.4500</td>\n",
       "      <td>12.000000</td>\n",
       "    </tr>\n",
       "    <tr>\n",
       "      <th>24</th>\n",
       "      <td>0.0130</td>\n",
       "      <td>0.052700</td>\n",
       "    </tr>\n",
       "    <tr>\n",
       "      <th>25</th>\n",
       "      <td>0.0034</td>\n",
       "      <td>0.115227</td>\n",
       "    </tr>\n",
       "    <tr>\n",
       "      <th>26</th>\n",
       "      <td>0.0200</td>\n",
       "      <td>0.241376</td>\n",
       "    </tr>\n",
       "    <tr>\n",
       "      <th>27</th>\n",
       "      <td>0.0190</td>\n",
       "      <td>5.503000</td>\n",
       "    </tr>\n",
       "    <tr>\n",
       "      <th>28</th>\n",
       "      <td>NaN</td>\n",
       "      <td>0.015440</td>\n",
       "    </tr>\n",
       "    <tr>\n",
       "      <th>29</th>\n",
       "      <td>0.3050</td>\n",
       "      <td>0.788000</td>\n",
       "    </tr>\n",
       "    <tr>\n",
       "      <th>...</th>\n",
       "      <td>...</td>\n",
       "      <td>...</td>\n",
       "    </tr>\n",
       "    <tr>\n",
       "      <th>3986</th>\n",
       "      <td>0.1100</td>\n",
       "      <td>1.300000</td>\n",
       "    </tr>\n",
       "    <tr>\n",
       "      <th>3987</th>\n",
       "      <td>0.7020</td>\n",
       "      <td>3.390000</td>\n",
       "    </tr>\n",
       "    <tr>\n",
       "      <th>3988</th>\n",
       "      <td>0.1510</td>\n",
       "      <td>1.930000</td>\n",
       "    </tr>\n",
       "    <tr>\n",
       "      <th>3989</th>\n",
       "      <td>0.1440</td>\n",
       "      <td>1.190000</td>\n",
       "    </tr>\n",
       "    <tr>\n",
       "      <th>3990</th>\n",
       "      <td>0.0490</td>\n",
       "      <td>2.050000</td>\n",
       "    </tr>\n",
       "    <tr>\n",
       "      <th>3991</th>\n",
       "      <td>0.2100</td>\n",
       "      <td>1.240000</td>\n",
       "    </tr>\n",
       "    <tr>\n",
       "      <th>3992</th>\n",
       "      <td>0.0570</td>\n",
       "      <td>2.170000</td>\n",
       "    </tr>\n",
       "    <tr>\n",
       "      <th>3993</th>\n",
       "      <td>0.7124</td>\n",
       "      <td>1.275000</td>\n",
       "    </tr>\n",
       "    <tr>\n",
       "      <th>3994</th>\n",
       "      <td>NaN</td>\n",
       "      <td>55.000000</td>\n",
       "    </tr>\n",
       "    <tr>\n",
       "      <th>3995</th>\n",
       "      <td>0.1670</td>\n",
       "      <td>2.650000</td>\n",
       "    </tr>\n",
       "    <tr>\n",
       "      <th>3996</th>\n",
       "      <td>0.0900</td>\n",
       "      <td>1.100000</td>\n",
       "    </tr>\n",
       "    <tr>\n",
       "      <th>3997</th>\n",
       "      <td>0.1256</td>\n",
       "      <td>1.900000</td>\n",
       "    </tr>\n",
       "    <tr>\n",
       "      <th>3998</th>\n",
       "      <td>0.1650</td>\n",
       "      <td>6.100000</td>\n",
       "    </tr>\n",
       "    <tr>\n",
       "      <th>3999</th>\n",
       "      <td>0.1060</td>\n",
       "      <td>1.100000</td>\n",
       "    </tr>\n",
       "    <tr>\n",
       "      <th>4000</th>\n",
       "      <td>0.1910</td>\n",
       "      <td>0.830000</td>\n",
       "    </tr>\n",
       "    <tr>\n",
       "      <th>4001</th>\n",
       "      <td>0.1300</td>\n",
       "      <td>3.900000</td>\n",
       "    </tr>\n",
       "    <tr>\n",
       "      <th>4002</th>\n",
       "      <td>0.0000</td>\n",
       "      <td>0.068390</td>\n",
       "    </tr>\n",
       "    <tr>\n",
       "      <th>4003</th>\n",
       "      <td>0.4000</td>\n",
       "      <td>4.430000</td>\n",
       "    </tr>\n",
       "    <tr>\n",
       "      <th>4004</th>\n",
       "      <td>0.0373</td>\n",
       "      <td>0.219600</td>\n",
       "    </tr>\n",
       "    <tr>\n",
       "      <th>4005</th>\n",
       "      <td>0.0520</td>\n",
       "      <td>0.412300</td>\n",
       "    </tr>\n",
       "    <tr>\n",
       "      <th>4006</th>\n",
       "      <td>0.0110</td>\n",
       "      <td>0.049000</td>\n",
       "    </tr>\n",
       "    <tr>\n",
       "      <th>4007</th>\n",
       "      <td>0.1800</td>\n",
       "      <td>0.538000</td>\n",
       "    </tr>\n",
       "    <tr>\n",
       "      <th>4008</th>\n",
       "      <td>0.1600</td>\n",
       "      <td>1.334000</td>\n",
       "    </tr>\n",
       "    <tr>\n",
       "      <th>4009</th>\n",
       "      <td>0.0600</td>\n",
       "      <td>0.133000</td>\n",
       "    </tr>\n",
       "    <tr>\n",
       "      <th>4010</th>\n",
       "      <td>0.2300</td>\n",
       "      <td>0.243000</td>\n",
       "    </tr>\n",
       "    <tr>\n",
       "      <th>4011</th>\n",
       "      <td>0.0310</td>\n",
       "      <td>1.170000</td>\n",
       "    </tr>\n",
       "    <tr>\n",
       "      <th>4012</th>\n",
       "      <td>0.0215</td>\n",
       "      <td>0.059222</td>\n",
       "    </tr>\n",
       "    <tr>\n",
       "      <th>4013</th>\n",
       "      <td>0.2596</td>\n",
       "      <td>0.827774</td>\n",
       "    </tr>\n",
       "    <tr>\n",
       "      <th>4014</th>\n",
       "      <td>0.2987</td>\n",
       "      <td>2.513290</td>\n",
       "    </tr>\n",
       "    <tr>\n",
       "      <th>4015</th>\n",
       "      <td>0.0000</td>\n",
       "      <td>0.680000</td>\n",
       "    </tr>\n",
       "  </tbody>\n",
       "</table>\n",
       "<p>4016 rows × 2 columns</p>\n",
       "</div>"
      ],
      "text/plain": [
       "      pl_orbeccen  pl_orbsmax\n",
       "0          0.2310    1.290000\n",
       "1          0.0800    1.530000\n",
       "2          0.0000    0.830000\n",
       "3          0.3700    2.930000\n",
       "4          0.6800    1.660000\n",
       "5          0.0800    2.600000\n",
       "6             NaN  330.000000\n",
       "7          0.0420    0.190000\n",
       "8          0.0900    1.333000\n",
       "9          0.2900    2.080000\n",
       "10            NaN   52.000000\n",
       "11            NaN  156.000000\n",
       "12            NaN   15.000000\n",
       "13            NaN   46.000000\n",
       "14            NaN    0.920000\n",
       "15         0.2600         NaN\n",
       "16            NaN  230.000000\n",
       "17         0.2900    0.990000\n",
       "18         0.4320    0.870000\n",
       "19         0.3800    1.190000\n",
       "20         0.0320    2.100000\n",
       "21         0.0980    3.600000\n",
       "22         0.1600   11.600000\n",
       "23         0.4500   12.000000\n",
       "24         0.0130    0.052700\n",
       "25         0.0034    0.115227\n",
       "26         0.0200    0.241376\n",
       "27         0.0190    5.503000\n",
       "28            NaN    0.015440\n",
       "29         0.3050    0.788000\n",
       "...           ...         ...\n",
       "3986       0.1100    1.300000\n",
       "3987       0.7020    3.390000\n",
       "3988       0.1510    1.930000\n",
       "3989       0.1440    1.190000\n",
       "3990       0.0490    2.050000\n",
       "3991       0.2100    1.240000\n",
       "3992       0.0570    2.170000\n",
       "3993       0.7124    1.275000\n",
       "3994          NaN   55.000000\n",
       "3995       0.1670    2.650000\n",
       "3996       0.0900    1.100000\n",
       "3997       0.1256    1.900000\n",
       "3998       0.1650    6.100000\n",
       "3999       0.1060    1.100000\n",
       "4000       0.1910    0.830000\n",
       "4001       0.1300    3.900000\n",
       "4002       0.0000    0.068390\n",
       "4003       0.4000    4.430000\n",
       "4004       0.0373    0.219600\n",
       "4005       0.0520    0.412300\n",
       "4006       0.0110    0.049000\n",
       "4007       0.1800    0.538000\n",
       "4008       0.1600    1.334000\n",
       "4009       0.0600    0.133000\n",
       "4010       0.2300    0.243000\n",
       "4011       0.0310    1.170000\n",
       "4012       0.0215    0.059222\n",
       "4013       0.2596    0.827774\n",
       "4014       0.2987    2.513290\n",
       "4015       0.0000    0.680000\n",
       "\n",
       "[4016 rows x 2 columns]"
      ]
     },
     "execution_count": 31,
     "metadata": {},
     "output_type": "execute_result"
    }
   ],
   "source": [
    "planets[['pl_orbeccen','pl_orbsmax']]"
   ]
  },
  {
   "cell_type": "code",
   "execution_count": 34,
   "metadata": {
    "collapsed": true
   },
   "outputs": [],
   "source": [
    "x = planets['pl_orbeccen']\n",
    "y = planets['pl_orbsmax']\n",
    "\n",
    "mask = ~np.isnan(x) & ~np.isnan(y)"
   ]
  },
  {
   "cell_type": "code",
   "execution_count": 35,
   "metadata": {},
   "outputs": [
    {
     "data": {
      "text/plain": [
       "0        True\n",
       "1        True\n",
       "2        True\n",
       "3        True\n",
       "4        True\n",
       "5        True\n",
       "6       False\n",
       "7        True\n",
       "8        True\n",
       "9        True\n",
       "10      False\n",
       "11      False\n",
       "12      False\n",
       "13      False\n",
       "14      False\n",
       "15      False\n",
       "16      False\n",
       "17       True\n",
       "18       True\n",
       "19       True\n",
       "20       True\n",
       "21       True\n",
       "22       True\n",
       "23       True\n",
       "24       True\n",
       "25       True\n",
       "26       True\n",
       "27       True\n",
       "28      False\n",
       "29       True\n",
       "        ...  \n",
       "3986     True\n",
       "3987     True\n",
       "3988     True\n",
       "3989     True\n",
       "3990     True\n",
       "3991     True\n",
       "3992     True\n",
       "3993     True\n",
       "3994    False\n",
       "3995     True\n",
       "3996     True\n",
       "3997     True\n",
       "3998     True\n",
       "3999     True\n",
       "4000     True\n",
       "4001     True\n",
       "4002     True\n",
       "4003     True\n",
       "4004     True\n",
       "4005     True\n",
       "4006     True\n",
       "4007     True\n",
       "4008     True\n",
       "4009     True\n",
       "4010     True\n",
       "4011     True\n",
       "4012     True\n",
       "4013     True\n",
       "4014     True\n",
       "4015     True\n",
       "Length: 4016, dtype: bool"
      ]
     },
     "execution_count": 35,
     "metadata": {},
     "output_type": "execute_result"
    }
   ],
   "source": [
    "mask"
   ]
  },
  {
   "cell_type": "code",
   "execution_count": 36,
   "metadata": {},
   "outputs": [
    {
     "data": {
      "text/plain": [
       "0       0.2310\n",
       "1       0.0800\n",
       "2       0.0000\n",
       "3       0.3700\n",
       "4       0.6800\n",
       "5       0.0800\n",
       "7       0.0420\n",
       "8       0.0900\n",
       "9       0.2900\n",
       "17      0.2900\n",
       "18      0.4320\n",
       "19      0.3800\n",
       "20      0.0320\n",
       "21      0.0980\n",
       "22      0.1600\n",
       "23      0.4500\n",
       "24      0.0130\n",
       "25      0.0034\n",
       "26      0.0200\n",
       "27      0.0190\n",
       "29      0.3050\n",
       "30      0.0730\n",
       "31      0.1200\n",
       "32      0.1400\n",
       "33      0.3500\n",
       "34      0.2200\n",
       "35      0.3988\n",
       "36      0.1170\n",
       "37      0.0600\n",
       "38      0.2060\n",
       "         ...  \n",
       "3985    0.1900\n",
       "3986    0.1100\n",
       "3987    0.7020\n",
       "3988    0.1510\n",
       "3989    0.1440\n",
       "3990    0.0490\n",
       "3991    0.2100\n",
       "3992    0.0570\n",
       "3993    0.7124\n",
       "3995    0.1670\n",
       "3996    0.0900\n",
       "3997    0.1256\n",
       "3998    0.1650\n",
       "3999    0.1060\n",
       "4000    0.1910\n",
       "4001    0.1300\n",
       "4002    0.0000\n",
       "4003    0.4000\n",
       "4004    0.0373\n",
       "4005    0.0520\n",
       "4006    0.0110\n",
       "4007    0.1800\n",
       "4008    0.1600\n",
       "4009    0.0600\n",
       "4010    0.2300\n",
       "4011    0.0310\n",
       "4012    0.0215\n",
       "4013    0.2596\n",
       "4014    0.2987\n",
       "4015    0.0000\n",
       "Name: pl_orbeccen, Length: 1167, dtype: float64"
      ]
     },
     "execution_count": 36,
     "metadata": {},
     "output_type": "execute_result"
    }
   ],
   "source": [
    "xplot = x[mask]\n",
    "yplot = y[mask]\n",
    "\n",
    "xplot"
   ]
  },
  {
   "cell_type": "code",
   "execution_count": 37,
   "metadata": {
    "collapsed": true
   },
   "outputs": [],
   "source": [
    "myHist, xedges, yedges = np.histogram2d(xplot, yplot, bins = [10,10])"
   ]
  },
  {
   "cell_type": "code",
   "execution_count": 39,
   "metadata": {},
   "outputs": [
    {
     "data": {
      "text/plain": [
       "array([[ 521.,    0.,    0.,    0.,    0.,    0.,    0.,    0.,    0.,\n",
       "           0.],\n",
       "       [ 244.,    1.,    0.,    0.,    0.,    0.,    0.,    0.,    0.,\n",
       "           0.],\n",
       "       [ 150.,    0.,    0.,    0.,    0.,    0.,    0.,    0.,    0.,\n",
       "           0.],\n",
       "       [  86.,    0.,    0.,    0.,    0.,    0.,    0.,    0.,    0.,\n",
       "           0.],\n",
       "       [  54.,    1.,    0.,    0.,    0.,    0.,    0.,    0.,    0.,\n",
       "           0.],\n",
       "       [  45.,    0.,    0.,    0.,    0.,    0.,    0.,    0.,    0.,\n",
       "           0.],\n",
       "       [  23.,    0.,    0.,    0.,    0.,    0.,    0.,    0.,    0.,\n",
       "           0.],\n",
       "       [  19.,    1.,    0.,    0.,    0.,    0.,    0.,    0.,    0.,\n",
       "           0.],\n",
       "       [  16.,    0.,    0.,    0.,    0.,    0.,    0.,    0.,    0.,\n",
       "           0.],\n",
       "       [   5.,    0.,    0.,    0.,    0.,    0.,    0.,    0.,    0.,\n",
       "           1.]])"
      ]
     },
     "execution_count": 39,
     "metadata": {},
     "output_type": "execute_result"
    }
   ],
   "source": [
    "myHist"
   ]
  },
  {
   "cell_type": "code",
   "execution_count": 44,
   "metadata": {},
   "outputs": [],
   "source": [
    "y_centers = [(yedges[i]+yedges[i+1])*0.5 for i in range(len(yedges)-1)]"
   ]
  },
  {
   "cell_type": "code",
   "execution_count": 45,
   "metadata": {},
   "outputs": [
    {
     "data": {
      "text/plain": [
       "[8.0041799999999999,\n",
       " 24.003739999999997,\n",
       " 40.003299999999996,\n",
       " 56.002859999999998,\n",
       " 72.002420000000001,\n",
       " 88.001980000000003,\n",
       " 104.00153999999999,\n",
       " 120.00109999999999,\n",
       " 136.00065999999998,\n",
       " 152.00022000000001]"
      ]
     },
     "execution_count": 45,
     "metadata": {},
     "output_type": "execute_result"
    }
   ],
   "source": [
    "y_centers"
   ]
  },
  {
   "cell_type": "code",
   "execution_count": 46,
   "metadata": {
    "collapsed": true
   },
   "outputs": [],
   "source": [
    "x_centers = [(xedges[i]+xedges[i+1])*0.5 for i in range(len(xedges)-1)]"
   ]
  },
  {
   "cell_type": "code",
   "execution_count": 47,
   "metadata": {},
   "outputs": [
    {
     "data": {
      "text/plain": [
       "[0.047500000000000001,\n",
       " 0.14250000000000002,\n",
       " 0.23750000000000002,\n",
       " 0.33250000000000002,\n",
       " 0.42749999999999999,\n",
       " 0.52249999999999996,\n",
       " 0.61750000000000005,\n",
       " 0.71250000000000002,\n",
       " 0.8075,\n",
       " 0.90249999999999997]"
      ]
     },
     "execution_count": 47,
     "metadata": {},
     "output_type": "execute_result"
    }
   ],
   "source": [
    "x_centers"
   ]
  },
  {
   "cell_type": "code",
   "execution_count": null,
   "metadata": {
    "collapsed": true
   },
   "outputs": [],
   "source": []
  }
 ],
 "metadata": {
  "kernelspec": {
   "display_name": "Python 3",
   "language": "python",
   "name": "python3"
  },
  "language_info": {
   "codemirror_mode": {
    "name": "ipython",
    "version": 3
   },
   "file_extension": ".py",
   "mimetype": "text/x-python",
   "name": "python",
   "nbconvert_exporter": "python",
   "pygments_lexer": "ipython3",
   "version": "3.6.3"
  }
 },
 "nbformat": 4,
 "nbformat_minor": 2
}
