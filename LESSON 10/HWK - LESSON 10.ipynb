{
 "cells": [
  {
   "cell_type": "code",
   "execution_count": 14,
   "metadata": {},
   "outputs": [],
   "source": [
    "import numpy as np\n",
    "import matplotlib.pyplot as plt\n",
    "%matplotlib inline"
   ]
  },
  {
   "cell_type": "code",
   "execution_count": 15,
   "metadata": {},
   "outputs": [],
   "source": [
    "from hermite_library import read_hermite_solution_from_file\n",
    "from hermite_library import AUinCM"
   ]
  },
  {
   "cell_type": "code",
   "execution_count": 16,
   "metadata": {},
   "outputs": [],
   "source": [
    "t_h, E_h, r_h, v_h = read_hermite_solution_from_file('myFirstPlanetarySystem11.txt')"
   ]
  },
  {
   "cell_type": "code",
   "execution_count": 17,
   "metadata": {},
   "outputs": [],
   "source": [
    "make3dplanets_libdir = '../lesson09/genericPlanetFiles/'"
   ]
  },
  {
   "cell_type": "code",
   "execution_count": 18,
   "metadata": {},
   "outputs": [],
   "source": [
    "SystemName = 'MyPlanetSystemMoving2'"
   ]
  },
  {
   "cell_type": "code",
   "execution_count": 19,
   "metadata": {},
   "outputs": [],
   "source": [
    "output_planet_dir = './outPlanets/'"
   ]
  },
  {
   "cell_type": "code",
   "execution_count": 20,
   "metadata": {},
   "outputs": [],
   "source": [
    "texture_files = ['mercury_1024.jpg',\n",
    "                 'venus_surface_texture_1024.jpg',\n",
    "                 'earth_1200.jpg',\n",
    "                 'neptunemap_1000.jpg',\n",
    "                 'MarsMap_2500x1250.jpg', \n",
    "                 'sun_texture1.jpg']"
   ]
  },
  {
   "cell_type": "code",
   "execution_count": 21,
   "metadata": {},
   "outputs": [],
   "source": [
    "PlanetRadius = np.array([0.7e9, 0.6e9, 2e9, 0.3e9, 2.5e9, 7e9])*500 #cm"
   ]
  },
  {
   "cell_type": "code",
   "execution_count": 22,
   "metadata": {},
   "outputs": [],
   "source": [
    "from sys import path"
   ]
  },
  {
   "cell_type": "code",
   "execution_count": 23,
   "metadata": {},
   "outputs": [],
   "source": [
    "path.append(make3dplanets_libdir)"
   ]
  },
  {
   "cell_type": "code",
   "execution_count": 24,
   "metadata": {},
   "outputs": [],
   "source": [
    "generic_dir = '../lesson 09/genericPlanetFiles/'"
   ]
  },
  {
   "cell_type": "code",
   "execution_count": 25,
   "metadata": {},
   "outputs": [],
   "source": [
    "textures_dir = generic_dir + 'textureMaps/'"
   ]
  },
  {
   "cell_type": "code",
   "execution_count": 29,
   "metadata": {},
   "outputs": [],
   "source": [
    "Nplots = np.arange(0, 1000, 15)"
   ]
  },
  {
   "cell_type": "code",
   "execution_count": 30,
   "metadata": {},
   "outputs": [],
   "source": [
    "dt_movie = 0.05"
   ]
  },
  {
   "cell_type": "code",
   "execution_count": 31,
   "metadata": {},
   "outputs": [
    {
     "name": "stdout",
     "output_type": "stream",
     "text": [
      "mkdir: outPlanets/MyPlanetSystemMoving2: File exists\r\n"
     ]
    }
   ],
   "source": [
    "!mkdir outPlanets/MyPlanetSystemMoving2\n",
    "tfile = open(output_planet_dir + SystemName + '/sketchfab.timeframe', 'w')"
   ]
  },
  {
   "cell_type": "code",
   "execution_count": 32,
   "metadata": {},
   "outputs": [],
   "source": [
    "from make3dplanets import make3dplanets"
   ]
  },
  {
   "cell_type": "code",
   "execution_count": 33,
   "metadata": {},
   "outputs": [],
   "source": [
    "PlanetLocation = np.zeros([len(PlanetRadius), 3])\n",
    "for iplot, Nplot in enumerate(Nplots):\n",
    "    for p in range(len(PlanetRadius)):\n",
    "        PlanetLocation[p,2] = r_h[p,0,Nplot]*AUinCM\n",
    "        PlanetLocation[p,0] = r_h[p,1,Nplot]*AUinCM\n",
    "        PlanetLocation[p,1] = r_h[p,2,Nplot]*AUinCM\n",
    "        \n",
    "    fname = make3dplanets(SystemName, PlanetLocation, PlanetRadius, \n",
    "                          output_planet_dir, generic_dir, textures_dir = textures_dir,\n",
    "                          texture_file=texture_files, fnum = iplot)\n",
    "    \n",
    "    tfile.write(str(dt_movie) +' '+fname+' \\n')\n",
    "    \n",
    "tfile.close()"
   ]
  },
  {
   "cell_type": "code",
   "execution_count": null,
   "metadata": {},
   "outputs": [],
   "source": []
  },
  {
   "cell_type": "code",
   "execution_count": null,
   "metadata": {},
   "outputs": [],
   "source": []
  },
  {
   "cell_type": "code",
   "execution_count": null,
   "metadata": {},
   "outputs": [],
   "source": []
  }
 ],
 "metadata": {
  "kernelspec": {
   "display_name": "Python 3",
   "language": "python",
   "name": "python3"
  },
  "language_info": {
   "codemirror_mode": {
    "name": "ipython",
    "version": 3
   },
   "file_extension": ".py",
   "mimetype": "text/x-python",
   "name": "python",
   "nbconvert_exporter": "python",
   "pygments_lexer": "ipython3",
   "version": "3.7.3"
  }
 },
 "nbformat": 4,
 "nbformat_minor": 2
}
