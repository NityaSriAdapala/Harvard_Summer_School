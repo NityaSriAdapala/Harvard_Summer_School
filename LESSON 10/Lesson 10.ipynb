{
 "cells": [
  {
   "cell_type": "code",
   "execution_count": 1,
   "metadata": {},
   "outputs": [],
   "source": [
    "import numpy as np\n",
    "import matplotlib.pyplot as plt\n",
    "%matplotlib inline"
   ]
  },
  {
   "cell_type": "code",
   "execution_count": 29,
   "metadata": {},
   "outputs": [],
   "source": [
    "from hermite_library import read_hermite_solution_from_file\n",
    "from hermite_library import AUinCM"
   ]
  },
  {
   "cell_type": "code",
   "execution_count": 4,
   "metadata": {},
   "outputs": [],
   "source": [
    "t_h, E_h, r_h, v_h = read_hermite_solution_from_file('myPlanetSystem_kepler101_solution1.txt')"
   ]
  },
  {
   "cell_type": "code",
   "execution_count": 40,
   "metadata": {},
   "outputs": [],
   "source": [
    "make3dplanets_libdir = '../lesson09/genericPlanetFiles/'"
   ]
  },
  {
   "cell_type": "code",
   "execution_count": 41,
   "metadata": {},
   "outputs": [],
   "source": [
    "SystemName = 'MyPlanetSystemMoving1'"
   ]
  },
  {
   "cell_type": "code",
   "execution_count": 19,
   "metadata": {},
   "outputs": [],
   "source": [
    "output_planet_dir = './outPlanets/'"
   ]
  },
  {
   "cell_type": "code",
   "execution_count": 8,
   "metadata": {},
   "outputs": [],
   "source": [
    "texture_files = ['saturn_1024.jpg', 'neptunemap_1000.jpg', 'sun_texture1.jpg']"
   ]
  },
  {
   "cell_type": "code",
   "execution_count": 10,
   "metadata": {},
   "outputs": [],
   "source": [
    "PlanetRadius = np.array([5.8e9, 2.46e9, 69.55e9])*2 #cm"
   ]
  },
  {
   "cell_type": "code",
   "execution_count": 11,
   "metadata": {},
   "outputs": [],
   "source": [
    "from sys import path"
   ]
  },
  {
   "cell_type": "code",
   "execution_count": 12,
   "metadata": {},
   "outputs": [],
   "source": [
    "path.append(make3dplanets_libdir)"
   ]
  },
  {
   "cell_type": "code",
   "execution_count": 13,
   "metadata": {},
   "outputs": [
    {
     "data": {
      "text/plain": [
       "['/Users/nityasriadapala/Documents/Happy/HARVARD/LESSON 10',\n",
       " '/Users/nityasriadapala/anaconda3/lib/python37.zip',\n",
       " '/Users/nityasriadapala/anaconda3/lib/python3.7',\n",
       " '/Users/nityasriadapala/anaconda3/lib/python3.7/lib-dynload',\n",
       " '',\n",
       " '/Users/nityasriadapala/anaconda3/lib/python3.7/site-packages',\n",
       " '/Users/nityasriadapala/anaconda3/lib/python3.7/site-packages/aeosa',\n",
       " '/Users/nityasriadapala/anaconda3/lib/python3.7/site-packages/IPython/extensions',\n",
       " '/Users/nityasriadapala/.ipython',\n",
       " '../lesson09/genericPlanetFiles']"
      ]
     },
     "execution_count": 13,
     "metadata": {},
     "output_type": "execute_result"
    }
   ],
   "source": [
    "path"
   ]
  },
  {
   "cell_type": "code",
   "execution_count": 38,
   "metadata": {},
   "outputs": [],
   "source": [
    "generic_dir = '../lesson 09/genericPlanetFiles/'"
   ]
  },
  {
   "cell_type": "code",
   "execution_count": 45,
   "metadata": {},
   "outputs": [],
   "source": [
    "textures_dir = generic_dir + 'textureMaps/'"
   ]
  },
  {
   "cell_type": "code",
   "execution_count": 16,
   "metadata": {},
   "outputs": [],
   "source": [
    "Nplots = [5,100]"
   ]
  },
  {
   "cell_type": "code",
   "execution_count": 17,
   "metadata": {},
   "outputs": [],
   "source": [
    "dt_movie = 0.5"
   ]
  },
  {
   "cell_type": "code",
   "execution_count": 24,
   "metadata": {},
   "outputs": [],
   "source": [
    "#!mkdir outPlanets/MyPlanetSystemMoving1\n",
    "tfile = open(output_planet_dir + SystemName + '/sketchfab.timeframe', 'w')"
   ]
  },
  {
   "cell_type": "code",
   "execution_count": 34,
   "metadata": {},
   "outputs": [],
   "source": [
    "from make3dplanets import make3dplanets"
   ]
  },
  {
   "cell_type": "code",
   "execution_count": 46,
   "metadata": {},
   "outputs": [],
   "source": [
    "PlanetLocation = np.zeros([len(PlanetRadius), 3])\n",
    "for iplot, Nplot in enumerate(Nplots):\n",
    "    for p in range(len(PlanetRadius)):\n",
    "        PlanetLocation[p,2] = r_h[p,0,Nplot]*AUinCM\n",
    "        PlanetLocation[p,0] = r_h[p,1,Nplot]*AUinCM\n",
    "        PlanetLocation[p,1] = r_h[p,2,Nplot]*AUinCM\n",
    "        \n",
    "    fname = make3dplanets(SystemName, PlanetLocation, PlanetRadius, \n",
    "                          output_planet_dir, generic_dir, textures_dir = textures_dir,\n",
    "                          texture_file=texture_files, fnum = iplot)\n",
    "    \n",
    "    tfile.write(str(dt_movie) +' '+fname+' \\n')\n",
    "    \n",
    "tfile.close()"
   ]
  },
  {
   "cell_type": "code",
   "execution_count": null,
   "metadata": {},
   "outputs": [],
   "source": []
  },
  {
   "cell_type": "code",
   "execution_count": null,
   "metadata": {},
   "outputs": [],
   "source": []
  }
 ],
 "metadata": {
  "kernelspec": {
   "display_name": "Python 3",
   "language": "python",
   "name": "python3"
  },
  "language_info": {
   "codemirror_mode": {
    "name": "ipython",
    "version": 3
   },
   "file_extension": ".py",
   "mimetype": "text/x-python",
   "name": "python",
   "nbconvert_exporter": "python",
   "pygments_lexer": "ipython3",
   "version": "3.7.3"
  }
 },
 "nbformat": 4,
 "nbformat_minor": 2
}
