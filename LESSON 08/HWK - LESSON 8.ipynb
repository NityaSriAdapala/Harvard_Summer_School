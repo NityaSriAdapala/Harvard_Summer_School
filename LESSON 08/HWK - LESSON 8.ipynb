{
 "cells": [
  {
   "cell_type": "code",
   "execution_count": 2,
   "metadata": {},
   "outputs": [],
   "source": [
    "import ipyvolume\n",
    "import numpy as np\n",
    "import ipywidgets"
   ]
  },
  {
   "cell_type": "code",
   "execution_count": 3,
   "metadata": {},
   "outputs": [],
   "source": [
    "from hermite_library import read_hermite_solution_from_file"
   ]
  },
  {
   "cell_type": "code",
   "execution_count": 4,
   "metadata": {},
   "outputs": [],
   "source": [
    "t_h, E_h, r_h, v_h = read_hermite_solution_from_file('myFirstPlanetarySystem11.txt')"
   ]
  },
  {
   "cell_type": "code",
   "execution_count": 5,
   "metadata": {},
   "outputs": [
    {
     "data": {
      "text/plain": [
       "((30000,), (30000,), (30000,))"
      ]
     },
     "execution_count": 5,
     "metadata": {},
     "output_type": "execute_result"
    }
   ],
   "source": [
    "x = r_h[:,0,:].ravel()\n",
    "y = r_h[:,1,:].ravel()\n",
    "z = r_h[:,2,:].ravel()\n",
    "x.shape, y.shape, z.shape"
   ]
  },
  {
   "cell_type": "code",
   "execution_count": 5,
   "metadata": {},
   "outputs": [
    {
     "data": {
      "application/vnd.jupyter.widget-view+json": {
       "model_id": "5b4b3ebc384c4ff1b2d6509984ae6909",
       "version_major": 2,
       "version_minor": 0
      },
      "text/plain": [
       "VBox(children=(Figure(camera=PerspectiveCamera(fov=46.0, position=(0.0, 0.0, 2.0), quaternion=(0.0, 0.0, 0.0, …"
      ]
     },
     "metadata": {},
     "output_type": "display_data"
    }
   ],
   "source": [
    "ipyvolume.quickscatter(x,y,z, size=1, marker='sphere')"
   ]
  },
  {
   "cell_type": "code",
   "execution_count": 6,
   "metadata": {
    "scrolled": true
   },
   "outputs": [
    {
     "data": {
      "application/vnd.jupyter.widget-view+json": {
       "model_id": "6597127f5096433bbfd92a559f0b44be",
       "version_major": 2,
       "version_minor": 0
      },
      "text/plain": [
       "VBox(children=(Figure(camera=PerspectiveCamera(fov=46.0, position=(0.0, 0.0, 2.0), quaternion=(0.0, 0.0, 0.0, …"
      ]
     },
     "metadata": {},
     "output_type": "display_data"
    }
   ],
   "source": [
    "# changing color of particles\n",
    "ipyvolume.figure()\n",
    "#colors = ['red','blue','green'] # colors for 3 particles\n",
    "colors = ['red','blue','green','black','magenta','yellow','pink'] # colors for 3 particles\n",
    "for i in range(r_h.shape[0]): # looping over all the particles in my file\n",
    "    ipyvolume.scatter(r_h[i,0,:], #ith particle, x coord, all timesteps\n",
    "                     r_h[i,1,:], # ith particle, y coord, all times\n",
    "                     r_h[i,2,:], # ith particle, z coord, all times\n",
    "                      color=colors[i], # pull from our color list \n",
    "                      marker='sphere',\n",
    "                     size=0.1)\n",
    "ipyvolume.show() # show the figure"
   ]
  },
  {
   "cell_type": "code",
   "execution_count": 7,
   "metadata": {},
   "outputs": [
    {
     "data": {
      "application/vnd.jupyter.widget-view+json": {
       "model_id": "74fe38c96d874e23a8e3f97d8f8dccf2",
       "version_major": 2,
       "version_minor": 0
      },
      "text/plain": [
       "VBox(children=(Figure(camera=PerspectiveCamera(fov=46.0, position=(0.0, 0.0, 2.0), quaternion=(0.0, 0.0, 0.0, …"
      ]
     },
     "metadata": {},
     "output_type": "display_data"
    }
   ],
   "source": [
    "# subsample\n",
    "step = 1000 # plot every 1000th step\n",
    "N = r_h.shape[2] # total number of steps\n",
    "\n",
    "# let's plot velocity vectors\n",
    "ipyvolume.figure()\n",
    "#colors = ['red', 'blue', 'green']\n",
    "colors = ['red','blue','green','black','magenta','yellow','pink'] # colors for 3 particles\n",
    "for i in range(r_h.shape[0]): # loop over all particles\n",
    "    ipyvolume.quiver(r_h[i,0,0:N:step], # ith particle, x coord, now plot every \"step\"\n",
    "                    r_h[i,1,0:N:step], # ith particle, y\n",
    "                    r_h[i,2,0:N:step], # ith particle, z\n",
    "                    v_h[i,0,0:N:step], #   ith part, vx\n",
    "                    v_h[i,1,0:N:step], # ith part, vy\n",
    "                    v_h[i,2,0:N:step], # ith, part, vz\n",
    "                    color=colors[i], size=2)\n",
    "ipyvolume.show()"
   ]
  },
  {
   "cell_type": "code",
   "execution_count": 6,
   "metadata": {},
   "outputs": [
    {
     "data": {
      "text/plain": [
       "(6, 5000)"
      ]
     },
     "execution_count": 6,
     "metadata": {},
     "output_type": "execute_result"
    }
   ],
   "source": [
    "r_h[:,0,:].shape"
   ]
  },
  {
   "cell_type": "code",
   "execution_count": 7,
   "metadata": {},
   "outputs": [
    {
     "data": {
      "text/plain": [
       "(5000, 6)"
      ]
     },
     "execution_count": 7,
     "metadata": {},
     "output_type": "execute_result"
    }
   ],
   "source": [
    "r_h[:,0,:].T.shape"
   ]
  },
  {
   "cell_type": "code",
   "execution_count": 8,
   "metadata": {},
   "outputs": [
    {
     "data": {
      "text/plain": [
       "(6, 3, 500)"
      ]
     },
     "execution_count": 8,
     "metadata": {},
     "output_type": "execute_result"
    }
   ],
   "source": [
    "nstep = 10 \n",
    "N = r_h.shape[2] \n",
    "r = r_h[:,:,0:N:nstep] \n",
    "r.shape"
   ]
  },
  {
   "cell_type": "code",
   "execution_count": 9,
   "metadata": {},
   "outputs": [
    {
     "data": {
      "text/plain": [
       "(500, 6, 3)"
      ]
     },
     "execution_count": 9,
     "metadata": {},
     "output_type": "execute_result"
    }
   ],
   "source": [
    "colors = [ (1, 0, 0), (0,1,0), (0,0,1), (0,1,1), (0,0.5,1), (1,0,1)]\n",
    "\n",
    "from flip_colors import flip_colors\n",
    "\n",
    "colors = flip_colors(colors,r)\n",
    "colors.shape"
   ]
  },
  {
   "cell_type": "code",
   "execution_count": 11,
   "metadata": {},
   "outputs": [
    {
     "data": {
      "application/vnd.jupyter.widget-view+json": {
       "model_id": "78df8a779d2a42d9ab909376e63a6ffb",
       "version_major": 2,
       "version_minor": 0
      },
      "text/plain": [
       "VBox(children=(Figure(animation=200.0, camera=PerspectiveCamera(fov=46.0, position=(0.0, 0.0, 2.0), quaternion…"
      ]
     },
     "metadata": {},
     "output_type": "display_data"
    }
   ],
   "source": [
    "ipyvolume.figure()\n",
    "s= ipyvolume.scatter(r[:,0,:].T, r[:,1,:].T, r[:,2,:].T, \n",
    "                      marker='sphere',\n",
    "                      color=colors) \n",
    "    \n",
    "ani = ipyvolume.animation_control(s, interval=200)\n",
    "\n",
    "ipyvolume.show()"
   ]
  },
  {
   "cell_type": "code",
   "execution_count": 21,
   "metadata": {},
   "outputs": [
    {
     "data": {
      "application/vnd.jupyter.widget-view+json": {
       "model_id": "7d459ebed55c42cebbb096e4f46f131c",
       "version_major": 2,
       "version_minor": 0
      },
      "text/plain": [
       "VBox(children=(VBox(children=(Figure(animation=200.0, camera=PerspectiveCamera(fov=46.0, position=(0.0, 0.0, 2…"
      ]
     },
     "metadata": {},
     "output_type": "display_data"
    }
   ],
   "source": [
    "step = 10 # only plot every 10th timestep\n",
    "N = r_h.shape[2] # all timesteps\n",
    "r = r_h[:,:,0:N:step] # all particles, all coords, every stepth time step\n",
    "\n",
    "ipyvolume.figure() # figure object\n",
    "\n",
    "size = ipywidgets.FloatSlider(min=0,max=30,step=0.1, description='Size')\n",
    "color = ipywidgets.ColorPicker()\n",
    "# scatter plot -> to make animation\n",
    "s = ipyvolume.scatter(r[:,0,:].T, r[:,1,:].T, r[:,2,:].T,\n",
    "                     marker='sphere',\n",
    "                     color=colors) # colors in (r,g,b) pairs\n",
    "\n",
    "# link my scatter plot with my widget\n",
    "ipywidgets.jslink((s,'size'),(size,'value')) # linking scatter plot size with size widget value\n",
    "ipywidgets.jslink((s,'color'), (color, 'value'))\n",
    "# make life more complicated -> animate!\n",
    "ani = ipyvolume.animation_control(s, interval=200)\n",
    "\n",
    "# finally, place with widgets Vbox\n",
    "ipywidgets.VBox([ipyvolume.gcc(),size,color]) # last figure object generated, size widget"
   ]
  },
  {
   "cell_type": "code",
   "execution_count": 22,
   "metadata": {},
   "outputs": [],
   "source": [
    "myOutFig = ipywidgets.VBox([ipyvolume.gcc(), size, color])"
   ]
  },
  {
   "cell_type": "code",
   "execution_count": 23,
   "metadata": {},
   "outputs": [],
   "source": [
    "ipyvolume.embed.layout = myOutFig.children[1].layout\n",
    "ipyvolume.embed.embed_html.min_width='400px'"
   ]
  },
  {
   "cell_type": "code",
   "execution_count": 24,
   "metadata": {},
   "outputs": [],
   "source": [
    "ipyvolume.embed.embed_html('myPage1.html',myOutFig, offline=False, devmode=False)"
   ]
  },
  {
   "cell_type": "code",
   "execution_count": 25,
   "metadata": {},
   "outputs": [],
   "source": [
    "!open myPage1.html"
   ]
  },
  {
   "cell_type": "code",
   "execution_count": null,
   "metadata": {},
   "outputs": [],
   "source": []
  }
 ],
 "metadata": {
  "kernelspec": {
   "display_name": "Python 3",
   "language": "python",
   "name": "python3"
  },
  "language_info": {
   "codemirror_mode": {
    "name": "ipython",
    "version": 3
   },
   "file_extension": ".py",
   "mimetype": "text/x-python",
   "name": "python",
   "nbconvert_exporter": "python",
   "pygments_lexer": "ipython3",
   "version": "3.7.3"
  }
 },
 "nbformat": 4,
 "nbformat_minor": 2
}
